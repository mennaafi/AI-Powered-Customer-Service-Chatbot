{
 "cells": [
  {
   "cell_type": "code",
   "execution_count": 1,
   "metadata": {},
   "outputs": [
    {
     "data": {
      "text/plain": [
       "True"
      ]
     },
     "execution_count": 1,
     "metadata": {},
     "output_type": "execute_result"
    }
   ],
   "source": [
    "import pandas as pd\n",
    "import google.generativeai as genai\n",
    "import os\n",
    "import json\n",
    "from copy import deepcopy\n",
    "from dotenv import load_dotenv \n",
    "\n",
    "load_dotenv()"
   ]
  },
  {
   "cell_type": "code",
   "execution_count": 2,
   "metadata": {},
   "outputs": [],
   "source": [
    "api_key = os.getenv(\"GEMINI_API_KEY\")\n",
    "genai.configure(api_key=api_key)"
   ]
  },
  {
   "cell_type": "code",
   "execution_count": 3,
   "metadata": {},
   "outputs": [],
   "source": [
    "model_name = os.getenv(\"MODEL_NAME\", \"gemini-1.5-flash\")\n",
    "model = genai.GenerativeModel(model_name)"
   ]
  },
  {
   "cell_type": "code",
   "execution_count": 69,
   "metadata": {},
   "outputs": [],
   "source": [
    "def get_chatbot_response(messages):\n",
    "    input_messages = []\n",
    "    for message in messages:\n",
    "        input_messages.append({\"role\": message[\"role\"], \"parts\": message[\"parts\"]})\n",
    "    response = model.generate_content(messages)  \n",
    "    \n",
    "    return response"
   ]
  },
  {
   "cell_type": "code",
   "execution_count": 6,
   "metadata": {},
   "outputs": [],
   "source": [
    "apriori_recommendation_path = 'api/recommendation_objects/apriori_recommendation.json'\n",
    "popular_recommendation_path = 'api/recommendation_objects/popularity_recommendation.csv'"
   ]
  },
  {
   "cell_type": "code",
   "execution_count": 7,
   "metadata": {},
   "outputs": [],
   "source": [
    "with open(apriori_recommendation_path, 'r') as file:\n",
    "            apriori_recommendations = json.load(file)"
   ]
  },
  {
   "cell_type": "code",
   "execution_count": 8,
   "metadata": {},
   "outputs": [],
   "source": [
    "popular_recommendations = pd.read_csv(popular_recommendation_path)\n",
    "products = popular_recommendations['product'].tolist()\n",
    "product_categories = popular_recommendations['product_category'].tolist()"
   ]
  },
  {
   "cell_type": "code",
   "execution_count": 9,
   "metadata": {},
   "outputs": [
    {
     "data": {
      "text/html": [
       "<div>\n",
       "<style scoped>\n",
       "    .dataframe tbody tr th:only-of-type {\n",
       "        vertical-align: middle;\n",
       "    }\n",
       "\n",
       "    .dataframe tbody tr th {\n",
       "        vertical-align: top;\n",
       "    }\n",
       "\n",
       "    .dataframe thead th {\n",
       "        text-align: right;\n",
       "    }\n",
       "</style>\n",
       "<table border=\"1\" class=\"dataframe\">\n",
       "  <thead>\n",
       "    <tr style=\"text-align: right;\">\n",
       "      <th></th>\n",
       "      <th>product</th>\n",
       "      <th>product_category</th>\n",
       "      <th>number_of_transactions</th>\n",
       "    </tr>\n",
       "  </thead>\n",
       "  <tbody>\n",
       "    <tr>\n",
       "      <th>0</th>\n",
       "      <td>Almond Croissant</td>\n",
       "      <td>Bakery</td>\n",
       "      <td>316</td>\n",
       "    </tr>\n",
       "    <tr>\n",
       "      <th>1</th>\n",
       "      <td>Cappuccino</td>\n",
       "      <td>Coffee</td>\n",
       "      <td>645</td>\n",
       "    </tr>\n",
       "    <tr>\n",
       "      <th>2</th>\n",
       "      <td>Carmel syrup</td>\n",
       "      <td>Flavours</td>\n",
       "      <td>486</td>\n",
       "    </tr>\n",
       "    <tr>\n",
       "      <th>3</th>\n",
       "      <td>Chocolate Chip Biscotti</td>\n",
       "      <td>Bakery</td>\n",
       "      <td>315</td>\n",
       "    </tr>\n",
       "    <tr>\n",
       "      <th>4</th>\n",
       "      <td>Chocolate Croissant</td>\n",
       "      <td>Bakery</td>\n",
       "      <td>601</td>\n",
       "    </tr>\n",
       "    <tr>\n",
       "      <th>5</th>\n",
       "      <td>Chocolate syrup</td>\n",
       "      <td>Flavours</td>\n",
       "      <td>506</td>\n",
       "    </tr>\n",
       "    <tr>\n",
       "      <th>6</th>\n",
       "      <td>Cranberry Scone</td>\n",
       "      <td>Bakery</td>\n",
       "      <td>308</td>\n",
       "    </tr>\n",
       "    <tr>\n",
       "      <th>7</th>\n",
       "      <td>Croissant</td>\n",
       "      <td>Bakery</td>\n",
       "      <td>330</td>\n",
       "    </tr>\n",
       "    <tr>\n",
       "      <th>8</th>\n",
       "      <td>Dark chocolate</td>\n",
       "      <td>Packaged Chocolate</td>\n",
       "      <td>19</td>\n",
       "    </tr>\n",
       "    <tr>\n",
       "      <th>9</th>\n",
       "      <td>Espresso shot</td>\n",
       "      <td>Coffee</td>\n",
       "      <td>620</td>\n",
       "    </tr>\n",
       "    <tr>\n",
       "      <th>10</th>\n",
       "      <td>Ginger Biscotti</td>\n",
       "      <td>Bakery</td>\n",
       "      <td>289</td>\n",
       "    </tr>\n",
       "    <tr>\n",
       "      <th>11</th>\n",
       "      <td>Ginger Scone</td>\n",
       "      <td>Bakery</td>\n",
       "      <td>381</td>\n",
       "    </tr>\n",
       "    <tr>\n",
       "      <th>12</th>\n",
       "      <td>Hazelnut Biscotti</td>\n",
       "      <td>Bakery</td>\n",
       "      <td>307</td>\n",
       "    </tr>\n",
       "    <tr>\n",
       "      <th>13</th>\n",
       "      <td>Hazelnut syrup</td>\n",
       "      <td>Flavours</td>\n",
       "      <td>450</td>\n",
       "    </tr>\n",
       "    <tr>\n",
       "      <th>14</th>\n",
       "      <td>Jumbo Savory Scone</td>\n",
       "      <td>Bakery</td>\n",
       "      <td>319</td>\n",
       "    </tr>\n",
       "    <tr>\n",
       "      <th>15</th>\n",
       "      <td>Latte</td>\n",
       "      <td>Coffee</td>\n",
       "      <td>631</td>\n",
       "    </tr>\n",
       "    <tr>\n",
       "      <th>16</th>\n",
       "      <td>Oatmeal Scone</td>\n",
       "      <td>Bakery</td>\n",
       "      <td>293</td>\n",
       "    </tr>\n",
       "    <tr>\n",
       "      <th>17</th>\n",
       "      <td>Sugar Free Vanilla syrup</td>\n",
       "      <td>Flavours</td>\n",
       "      <td>530</td>\n",
       "    </tr>\n",
       "  </tbody>\n",
       "</table>\n",
       "</div>"
      ],
      "text/plain": [
       "                     product    product_category  number_of_transactions\n",
       "0           Almond Croissant              Bakery                     316\n",
       "1                 Cappuccino              Coffee                     645\n",
       "2               Carmel syrup            Flavours                     486\n",
       "3    Chocolate Chip Biscotti              Bakery                     315\n",
       "4        Chocolate Croissant              Bakery                     601\n",
       "5            Chocolate syrup            Flavours                     506\n",
       "6            Cranberry Scone              Bakery                     308\n",
       "7                  Croissant              Bakery                     330\n",
       "8             Dark chocolate  Packaged Chocolate                      19\n",
       "9              Espresso shot              Coffee                     620\n",
       "10           Ginger Biscotti              Bakery                     289\n",
       "11              Ginger Scone              Bakery                     381\n",
       "12         Hazelnut Biscotti              Bakery                     307\n",
       "13            Hazelnut syrup            Flavours                     450\n",
       "14        Jumbo Savory Scone              Bakery                     319\n",
       "15                     Latte              Coffee                     631\n",
       "16             Oatmeal Scone              Bakery                     293\n",
       "17  Sugar Free Vanilla syrup            Flavours                     530"
      ]
     },
     "execution_count": 9,
     "metadata": {},
     "output_type": "execute_result"
    }
   ],
   "source": [
    "popular_recommendations \n"
   ]
  },
  {
   "cell_type": "code",
   "execution_count": 10,
   "metadata": {},
   "outputs": [
    {
     "data": {
      "text/plain": [
       "['Almond Croissant',\n",
       " 'Cappuccino',\n",
       " 'Carmel syrup',\n",
       " 'Chocolate Chip Biscotti',\n",
       " 'Chocolate Croissant',\n",
       " 'Chocolate syrup',\n",
       " 'Cranberry Scone',\n",
       " 'Croissant',\n",
       " 'Dark chocolate',\n",
       " 'Espresso shot',\n",
       " 'Ginger Biscotti',\n",
       " 'Ginger Scone',\n",
       " 'Hazelnut Biscotti',\n",
       " 'Hazelnut syrup',\n",
       " 'Jumbo Savory Scone',\n",
       " 'Latte',\n",
       " 'Oatmeal Scone',\n",
       " 'Sugar Free Vanilla syrup']"
      ]
     },
     "execution_count": 10,
     "metadata": {},
     "output_type": "execute_result"
    }
   ],
   "source": [
    "products"
   ]
  },
  {
   "cell_type": "code",
   "execution_count": 12,
   "metadata": {},
   "outputs": [
    {
     "data": {
      "text/plain": [
       "['Bakery',\n",
       " 'Coffee',\n",
       " 'Flavours',\n",
       " 'Bakery',\n",
       " 'Bakery',\n",
       " 'Flavours',\n",
       " 'Bakery',\n",
       " 'Bakery',\n",
       " 'Packaged Chocolate',\n",
       " 'Coffee',\n",
       " 'Bakery',\n",
       " 'Bakery',\n",
       " 'Bakery',\n",
       " 'Flavours',\n",
       " 'Bakery',\n",
       " 'Coffee',\n",
       " 'Bakery',\n",
       " 'Flavours']"
      ]
     },
     "execution_count": 12,
     "metadata": {},
     "output_type": "execute_result"
    }
   ],
   "source": [
    "product_categories"
   ]
  },
  {
   "cell_type": "code",
   "execution_count": 13,
   "metadata": {},
   "outputs": [],
   "source": [
    "def get_popular_recommendation(product_categories=None,top_k=5):\n",
    "        recommendations_df = popular_recommendations\n",
    "        \n",
    "        if type(product_categories) == str:\n",
    "            product_categories = [product_categories]\n",
    "\n",
    "        if product_categories is not None:\n",
    "            recommendations_df = popular_recommendations[popular_recommendations['product_category'].isin(product_categories)]\n",
    "        recommendations_df = recommendations_df.sort_values(by='number_of_transactions',ascending=False)\n",
    "        \n",
    "        if recommendations_df.shape[0] == 0:\n",
    "            return []\n",
    "\n",
    "        recommendations = recommendations_df['product'].tolist()[:top_k]\n",
    "        return recommendations"
   ]
  },
  {
   "cell_type": "code",
   "execution_count": 15,
   "metadata": {},
   "outputs": [
    {
     "data": {
      "text/plain": [
       "['Cappuccino',\n",
       " 'Latte',\n",
       " 'Espresso shot',\n",
       " 'Chocolate Croissant',\n",
       " 'Sugar Free Vanilla syrup']"
      ]
     },
     "execution_count": 15,
     "metadata": {},
     "output_type": "execute_result"
    }
   ],
   "source": [
    "get_popular_recommendation()"
   ]
  },
  {
   "cell_type": "code",
   "execution_count": 16,
   "metadata": {},
   "outputs": [
    {
     "data": {
      "text/plain": [
       "['Chocolate Croissant',\n",
       " 'Ginger Scone',\n",
       " 'Croissant',\n",
       " 'Jumbo Savory Scone',\n",
       " 'Almond Croissant']"
      ]
     },
     "execution_count": 16,
     "metadata": {},
     "output_type": "execute_result"
    }
   ],
   "source": [
    "get_popular_recommendation('Bakery')"
   ]
  },
  {
   "cell_type": "code",
   "execution_count": 40,
   "metadata": {},
   "outputs": [
    {
     "data": {
      "text/plain": [
       "{'Carmel syrup': [{'product': 'Cappuccino',\n",
       "   'product_categories': 'Coffee',\n",
       "   'confidence': 0.3978021978021978},\n",
       "  {'product': 'Latte',\n",
       "   'product_categories': 'Coffee',\n",
       "   'confidence': 0.37587006960556846},\n",
       "  {'product': 'Espresso shot',\n",
       "   'product_categories': 'Coffee',\n",
       "   'confidence': 0.37244897959183676},\n",
       "  {'product': 'Sugar Free Vanilla syrup',\n",
       "   'product_categories': 'Flavours',\n",
       "   'confidence': 0.32671480144404336},\n",
       "  {'product': 'Chocolate syrup',\n",
       "   'product_categories': 'Flavours',\n",
       "   'confidence': 0.3068592057761733},\n",
       "  {'product': 'Carmel syrup',\n",
       "   'product_categories': 'Flavours',\n",
       "   'confidence': 0.29347826086956524},\n",
       "  {'product': 'Hazelnut syrup',\n",
       "   'product_categories': 'Flavours',\n",
       "   'confidence': 0.26739926739926745},\n",
       "  {'product': 'Chocolate Croissant',\n",
       "   'product_categories': 'Bakery',\n",
       "   'confidence': 0.18478260869565216},\n",
       "  {'product': 'Croissant',\n",
       "   'product_categories': 'Bakery',\n",
       "   'confidence': 0.17934782608695654}],\n",
       " 'Cappuccino': [{'product': 'Cappuccino',\n",
       "   'product_categories': 'Coffee',\n",
       "   'confidence': 0.3978021978021978},\n",
       "  {'product': 'Latte',\n",
       "   'product_categories': 'Coffee',\n",
       "   'confidence': 0.37587006960556846},\n",
       "  {'product': 'Espresso shot',\n",
       "   'product_categories': 'Coffee',\n",
       "   'confidence': 0.37244897959183676},\n",
       "  {'product': 'Sugar Free Vanilla syrup',\n",
       "   'product_categories': 'Flavours',\n",
       "   'confidence': 0.32671480144404336},\n",
       "  {'product': 'Chocolate syrup',\n",
       "   'product_categories': 'Flavours',\n",
       "   'confidence': 0.3068592057761733},\n",
       "  {'product': 'Carmel syrup',\n",
       "   'product_categories': 'Flavours',\n",
       "   'confidence': 0.29347826086956524},\n",
       "  {'product': 'Hazelnut syrup',\n",
       "   'product_categories': 'Flavours',\n",
       "   'confidence': 0.26739926739926745},\n",
       "  {'product': 'Chocolate Croissant',\n",
       "   'product_categories': 'Bakery',\n",
       "   'confidence': 0.18478260869565216},\n",
       "  {'product': 'Croissant',\n",
       "   'product_categories': 'Bakery',\n",
       "   'confidence': 0.17934782608695654}],\n",
       " 'Chocolate syrup': [{'product': 'Cappuccino',\n",
       "   'product_categories': 'Coffee',\n",
       "   'confidence': 0.3978021978021978},\n",
       "  {'product': 'Latte',\n",
       "   'product_categories': 'Coffee',\n",
       "   'confidence': 0.37587006960556846},\n",
       "  {'product': 'Espresso shot',\n",
       "   'product_categories': 'Coffee',\n",
       "   'confidence': 0.37244897959183676},\n",
       "  {'product': 'Sugar Free Vanilla syrup',\n",
       "   'product_categories': 'Flavours',\n",
       "   'confidence': 0.32671480144404336},\n",
       "  {'product': 'Chocolate syrup',\n",
       "   'product_categories': 'Flavours',\n",
       "   'confidence': 0.3068592057761733},\n",
       "  {'product': 'Carmel syrup',\n",
       "   'product_categories': 'Flavours',\n",
       "   'confidence': 0.29347826086956524},\n",
       "  {'product': 'Hazelnut syrup',\n",
       "   'product_categories': 'Flavours',\n",
       "   'confidence': 0.26739926739926745},\n",
       "  {'product': 'Chocolate Croissant',\n",
       "   'product_categories': 'Bakery',\n",
       "   'confidence': 0.18478260869565216},\n",
       "  {'product': 'Croissant',\n",
       "   'product_categories': 'Bakery',\n",
       "   'confidence': 0.17934782608695654}],\n",
       " 'Hazelnut syrup': [{'product': 'Cappuccino',\n",
       "   'product_categories': 'Coffee',\n",
       "   'confidence': 0.3978021978021978},\n",
       "  {'product': 'Latte',\n",
       "   'product_categories': 'Coffee',\n",
       "   'confidence': 0.37587006960556846},\n",
       "  {'product': 'Espresso shot',\n",
       "   'product_categories': 'Coffee',\n",
       "   'confidence': 0.37244897959183676},\n",
       "  {'product': 'Sugar Free Vanilla syrup',\n",
       "   'product_categories': 'Flavours',\n",
       "   'confidence': 0.32671480144404336},\n",
       "  {'product': 'Chocolate syrup',\n",
       "   'product_categories': 'Flavours',\n",
       "   'confidence': 0.3068592057761733},\n",
       "  {'product': 'Carmel syrup',\n",
       "   'product_categories': 'Flavours',\n",
       "   'confidence': 0.29347826086956524},\n",
       "  {'product': 'Hazelnut syrup',\n",
       "   'product_categories': 'Flavours',\n",
       "   'confidence': 0.26739926739926745},\n",
       "  {'product': 'Chocolate Croissant',\n",
       "   'product_categories': 'Bakery',\n",
       "   'confidence': 0.18478260869565216},\n",
       "  {'product': 'Croissant',\n",
       "   'product_categories': 'Bakery',\n",
       "   'confidence': 0.17934782608695654}],\n",
       " 'Sugar Free Vanilla syrup': [{'product': 'Cappuccino',\n",
       "   'product_categories': 'Coffee',\n",
       "   'confidence': 0.3978021978021978},\n",
       "  {'product': 'Latte',\n",
       "   'product_categories': 'Coffee',\n",
       "   'confidence': 0.37587006960556846},\n",
       "  {'product': 'Espresso shot',\n",
       "   'product_categories': 'Coffee',\n",
       "   'confidence': 0.37244897959183676},\n",
       "  {'product': 'Sugar Free Vanilla syrup',\n",
       "   'product_categories': 'Flavours',\n",
       "   'confidence': 0.32671480144404336},\n",
       "  {'product': 'Chocolate syrup',\n",
       "   'product_categories': 'Flavours',\n",
       "   'confidence': 0.3068592057761733},\n",
       "  {'product': 'Carmel syrup',\n",
       "   'product_categories': 'Flavours',\n",
       "   'confidence': 0.29347826086956524},\n",
       "  {'product': 'Hazelnut syrup',\n",
       "   'product_categories': 'Flavours',\n",
       "   'confidence': 0.26739926739926745},\n",
       "  {'product': 'Chocolate Croissant',\n",
       "   'product_categories': 'Bakery',\n",
       "   'confidence': 0.18478260869565216},\n",
       "  {'product': 'Croissant',\n",
       "   'product_categories': 'Bakery',\n",
       "   'confidence': 0.17934782608695654}],\n",
       " 'Espresso shot': [{'product': 'Cappuccino',\n",
       "   'product_categories': 'Coffee',\n",
       "   'confidence': 0.3978021978021978},\n",
       "  {'product': 'Latte',\n",
       "   'product_categories': 'Coffee',\n",
       "   'confidence': 0.37587006960556846},\n",
       "  {'product': 'Espresso shot',\n",
       "   'product_categories': 'Coffee',\n",
       "   'confidence': 0.37244897959183676},\n",
       "  {'product': 'Sugar Free Vanilla syrup',\n",
       "   'product_categories': 'Flavours',\n",
       "   'confidence': 0.32671480144404336},\n",
       "  {'product': 'Chocolate syrup',\n",
       "   'product_categories': 'Flavours',\n",
       "   'confidence': 0.3068592057761733},\n",
       "  {'product': 'Carmel syrup',\n",
       "   'product_categories': 'Flavours',\n",
       "   'confidence': 0.29347826086956524},\n",
       "  {'product': 'Hazelnut syrup',\n",
       "   'product_categories': 'Flavours',\n",
       "   'confidence': 0.26739926739926745},\n",
       "  {'product': 'Chocolate Croissant',\n",
       "   'product_categories': 'Bakery',\n",
       "   'confidence': 0.18478260869565216},\n",
       "  {'product': 'Croissant',\n",
       "   'product_categories': 'Bakery',\n",
       "   'confidence': 0.17934782608695654}],\n",
       " 'Latte': [{'product': 'Cappuccino',\n",
       "   'product_categories': 'Coffee',\n",
       "   'confidence': 0.3978021978021978},\n",
       "  {'product': 'Latte',\n",
       "   'product_categories': 'Coffee',\n",
       "   'confidence': 0.37587006960556846},\n",
       "  {'product': 'Espresso shot',\n",
       "   'product_categories': 'Coffee',\n",
       "   'confidence': 0.37244897959183676},\n",
       "  {'product': 'Sugar Free Vanilla syrup',\n",
       "   'product_categories': 'Flavours',\n",
       "   'confidence': 0.32671480144404336},\n",
       "  {'product': 'Chocolate syrup',\n",
       "   'product_categories': 'Flavours',\n",
       "   'confidence': 0.3068592057761733},\n",
       "  {'product': 'Carmel syrup',\n",
       "   'product_categories': 'Flavours',\n",
       "   'confidence': 0.29347826086956524},\n",
       "  {'product': 'Hazelnut syrup',\n",
       "   'product_categories': 'Flavours',\n",
       "   'confidence': 0.26739926739926745},\n",
       "  {'product': 'Chocolate Croissant',\n",
       "   'product_categories': 'Bakery',\n",
       "   'confidence': 0.18478260869565216},\n",
       "  {'product': 'Croissant',\n",
       "   'product_categories': 'Bakery',\n",
       "   'confidence': 0.17934782608695654}],\n",
       " 'Chocolate Croissant': [{'product': 'Cappuccino',\n",
       "   'product_categories': 'Coffee',\n",
       "   'confidence': 0.3978021978021978},\n",
       "  {'product': 'Latte',\n",
       "   'product_categories': 'Coffee',\n",
       "   'confidence': 0.37587006960556846},\n",
       "  {'product': 'Espresso shot',\n",
       "   'product_categories': 'Coffee',\n",
       "   'confidence': 0.37244897959183676},\n",
       "  {'product': 'Sugar Free Vanilla syrup',\n",
       "   'product_categories': 'Flavours',\n",
       "   'confidence': 0.32671480144404336},\n",
       "  {'product': 'Chocolate syrup',\n",
       "   'product_categories': 'Flavours',\n",
       "   'confidence': 0.3068592057761733},\n",
       "  {'product': 'Carmel syrup',\n",
       "   'product_categories': 'Flavours',\n",
       "   'confidence': 0.29347826086956524},\n",
       "  {'product': 'Hazelnut syrup',\n",
       "   'product_categories': 'Flavours',\n",
       "   'confidence': 0.26739926739926745},\n",
       "  {'product': 'Chocolate Croissant',\n",
       "   'product_categories': 'Bakery',\n",
       "   'confidence': 0.18478260869565216},\n",
       "  {'product': 'Croissant',\n",
       "   'product_categories': 'Bakery',\n",
       "   'confidence': 0.17934782608695654}],\n",
       " 'Croissant': [{'product': 'Cappuccino',\n",
       "   'product_categories': 'Coffee',\n",
       "   'confidence': 0.3978021978021978},\n",
       "  {'product': 'Latte',\n",
       "   'product_categories': 'Coffee',\n",
       "   'confidence': 0.37587006960556846},\n",
       "  {'product': 'Espresso shot',\n",
       "   'product_categories': 'Coffee',\n",
       "   'confidence': 0.37244897959183676},\n",
       "  {'product': 'Sugar Free Vanilla syrup',\n",
       "   'product_categories': 'Flavours',\n",
       "   'confidence': 0.32671480144404336},\n",
       "  {'product': 'Chocolate syrup',\n",
       "   'product_categories': 'Flavours',\n",
       "   'confidence': 0.3068592057761733},\n",
       "  {'product': 'Carmel syrup',\n",
       "   'product_categories': 'Flavours',\n",
       "   'confidence': 0.29347826086956524},\n",
       "  {'product': 'Hazelnut syrup',\n",
       "   'product_categories': 'Flavours',\n",
       "   'confidence': 0.26739926739926745},\n",
       "  {'product': 'Chocolate Croissant',\n",
       "   'product_categories': 'Bakery',\n",
       "   'confidence': 0.18478260869565216},\n",
       "  {'product': 'Croissant',\n",
       "   'product_categories': 'Bakery',\n",
       "   'confidence': 0.17934782608695654}]}"
      ]
     },
     "execution_count": 40,
     "metadata": {},
     "output_type": "execute_result"
    }
   ],
   "source": [
    "apriori_recommendations"
   ]
  },
  {
   "cell_type": "code",
   "execution_count": 62,
   "metadata": {},
   "outputs": [],
   "source": [
    "def get_apriori_recommendation(products,top_k=7):\n",
    "        recommendation_list = []\n",
    "        for product in products:\n",
    "            if product in apriori_recommendations:\n",
    "                  recommendation_list = recommendation_list + apriori_recommendations[product]\n",
    "\n",
    "        # Sort recommendation list by \"confidence\"\n",
    "        recommendation_list = sorted(recommendation_list,key=lambda x: x['confidence'],reverse=True)\n",
    "        recommendations = []\n",
    "        recommendations_per_category = {}\n",
    "        for recommendation in recommendation_list:\n",
    "            # If Duplicated recommendations then skip\n",
    "            if recommendation in recommendations:\n",
    "                continue \n",
    "            # Limit 2 recommendations per category\n",
    "            product_category = recommendation['product_categories']\n",
    "            if product_category not in recommendations_per_category:\n",
    "                recommendations_per_category[product_category] = 0\n",
    "            \n",
    "            if recommendations_per_category[product_category] >= 2:\n",
    "                continue\n",
    "\n",
    "            recommendations_per_category[product_category]+=1\n",
    "\n",
    "            # Add recommendation\n",
    "            recommendations.append(recommendation['product'])\n",
    "\n",
    "            if len(recommendations) >= top_k:\n",
    "                break\n",
    "\n",
    "        return recommendations \n",
    "\n",
    "    "
   ]
  },
  {
   "cell_type": "code",
   "execution_count": 65,
   "metadata": {},
   "outputs": [
    {
     "data": {
      "text/plain": [
       "['Cappuccino',\n",
       " 'Latte',\n",
       " 'Sugar Free Vanilla syrup',\n",
       " 'Chocolate syrup',\n",
       " 'Chocolate Croissant',\n",
       " 'Croissant']"
      ]
     },
     "execution_count": 65,
     "metadata": {},
     "output_type": "execute_result"
    }
   ],
   "source": [
    "get_apriori_recommendation(['Latte'])"
   ]
  },
  {
   "cell_type": "code",
   "execution_count": 68,
   "metadata": {},
   "outputs": [
    {
     "data": {
      "text/plain": [
       "(['Almond Croissant',\n",
       "  'Cappuccino',\n",
       "  'Carmel syrup',\n",
       "  'Chocolate Chip Biscotti',\n",
       "  'Chocolate Croissant',\n",
       "  'Chocolate syrup',\n",
       "  'Cranberry Scone',\n",
       "  'Croissant',\n",
       "  'Dark chocolate',\n",
       "  'Espresso shot',\n",
       "  'Ginger Biscotti',\n",
       "  'Ginger Scone',\n",
       "  'Hazelnut Biscotti',\n",
       "  'Hazelnut syrup',\n",
       "  'Jumbo Savory Scone',\n",
       "  'Latte',\n",
       "  'Oatmeal Scone',\n",
       "  'Sugar Free Vanilla syrup'],\n",
       " ['Bakery',\n",
       "  'Coffee',\n",
       "  'Flavours',\n",
       "  'Bakery',\n",
       "  'Bakery',\n",
       "  'Flavours',\n",
       "  'Bakery',\n",
       "  'Bakery',\n",
       "  'Packaged Chocolate',\n",
       "  'Coffee',\n",
       "  'Bakery',\n",
       "  'Bakery',\n",
       "  'Bakery',\n",
       "  'Flavours',\n",
       "  'Bakery',\n",
       "  'Coffee',\n",
       "  'Bakery',\n",
       "  'Flavours'])"
      ]
     },
     "execution_count": 68,
     "metadata": {},
     "output_type": "execute_result"
    }
   ],
   "source": [
    "products = popular_recommendations['product'].tolist()\n",
    "product_categories = popular_recommendations['product_category'].tolist()\n",
    "products , product_categories"
   ]
  },
  {
   "cell_type": "code",
   "execution_count": 86,
   "metadata": {},
   "outputs": [
    {
     "data": {
      "text/plain": [
       "'```json\\n{\\n  \"chain of thought\": \"The user is asking for a recommendation within the \\\\\"Bakery\\\\\" category.  This is a request for a popular item within a specific category.\",\\n  \"recommendation_type\": \"popular by category\",\\n  \"parameters\": [\"Bakery\"]\\n}\\n```\\n'"
      ]
     },
     "execution_count": 86,
     "metadata": {},
     "output_type": "execute_result"
    }
   ],
   "source": [
    "messages = []\n",
    "system_prompt = \"\"\" You are a helpful AI assistant for a coffee shop application which serves drinks and pastries. We have 3 types of recommendations:\n",
    "\n",
    "        1. Apriori Recommendations: These are recommendations based on the user's order history. We recommend items that are frequently bought together with the items in the user's order.\n",
    "        2. Popular Recommendations: These are recommendations based on the popularity of items in the coffee shop. We recommend items that are popular among customers.\n",
    "        3. Popular Recommendations by Category: Here the user asks to recommend them product in a category. Like what coffee do you recommend me to get?. We recommend items that are popular in the category of the user's requested category.\n",
    "        \n",
    "        Here is the list of items in the coffee shop:\n",
    "        \"\"\"+ \",\".join(products) + \"\"\"\n",
    "        Here is the list of Categories we have in the coffee shop:\n",
    "        \"\"\" + \",\".join(product_categories) + \"\"\"\n",
    "\n",
    "        Your task is to determine which type of recommendation to provide based on the user's message.\n",
    "\n",
    "        Your output should be in a structured json format like so. Each key is a string and each value is a string. Make sure to follow the format exactly:\n",
    "        {\n",
    "        \"chain of thought\": Write down your critical thinking about what type of recommendation is this input relevant to.\n",
    "        \"recommendation_type\": \"apriori\" or \"popular\" or \"popular by category\". Pick one of those and only write the word.\n",
    "        \"parameters\": This is a  python list. It's either a list of of items for apriori recommendations or a list of categories for popular by category recommendations. Leave it empty for popular recommendations. Make sure to use the exact strings from the list of items and categories above.\n",
    "        }\n",
    "        \"\"\"\n",
    "prompt = input(\"User: \")\n",
    "messages.append({\"role\": \"user\", \"parts\": prompt})\n",
    "input_messages = [{\"role\": \"model\", \"parts\": system_prompt}] + messages\n",
    "\n",
    "chatbot_output =get_chatbot_response(input_messages).text\n",
    "chatbot_output"
   ]
  },
  {
   "cell_type": "code",
   "execution_count": 90,
   "metadata": {},
   "outputs": [],
   "source": [
    "def postprocess_classfication(output):\n",
    "        cleaned_output = \"\\n\".join(output.splitlines()[1:]).strip('`')\n",
    "        output = json.loads(cleaned_output)\n",
    "\n",
    "        dict_output = {\n",
    "            \"recommendation_type\": output['recommendation_type'],\n",
    "            \"parameters\": output['parameters'],\n",
    "        }\n",
    "        return dict_output"
   ]
  },
  {
   "cell_type": "code",
   "execution_count": 91,
   "metadata": {},
   "outputs": [
    {
     "data": {
      "text/plain": [
       "{'recommendation_type': 'popular by category', 'parameters': ['Bakery']}"
      ]
     },
     "execution_count": 91,
     "metadata": {},
     "output_type": "execute_result"
    }
   ],
   "source": [
    "output = postprocess_classfication(chatbot_output)\n",
    "output"
   ]
  },
  {
   "cell_type": "code",
   "execution_count": 94,
   "metadata": {},
   "outputs": [],
   "source": [
    "order = [\n",
    "    {'item': 'Latte'},\n",
    "    {'item': 'Croissant'}\n",
    "]\n",
    "products = []\n",
    "for product in order:\n",
    "    products.append(product['item'])\n",
    "\n",
    "recommendations = get_apriori_recommendation(products)\n",
    "recommendations_str = \", \".join(recommendations)\n",
    "\n",
    "system_prompt = f\"\"\"\n",
    "        You are a helpful AI assistant for a coffee shop application which serves drinks and pastries.\n",
    "        your task is to recommend items to the user based on their order.\n",
    "\n",
    "        I will provide what items you should recommend to the user based on their order in the user message. \n",
    "        \"\"\"\n",
    "\n",
    "prompt = f\"\"\"\n",
    "{messages[-1]['parts']}\n",
    "\n",
    "        Please recommend me those items exactly: {recommendations_str}\n",
    "        \"\"\"\n",
    "\n",
    "messages[-1]['parts'] = prompt\n",
    "input_messages = [{\"role\": \"model\", \"parts\": system_prompt}] + messages[-3:]"
   ]
  },
  {
   "cell_type": "code",
   "execution_count": 97,
   "metadata": {},
   "outputs": [
    {
     "data": {
      "text/plain": [
       "\"Okay, you've ordered two Cappuccinos, two Sugar Free Vanilla syrups, and two Chocolate Croissants.  Since you seem to enjoy chocolate and coffee, I'd recommend trying our:\\n\\n* **Almond Croissant:**  A delicious alternative to the chocolate croissant, offering a different flavor profile.\\n* **Pain au Chocolat:**  Similar to the chocolate croissant, but with a slightly different pastry and chocolate arrangement.  You might appreciate trying this variation.\\n\\nIf you're looking for something sweeter to complement your coffee, we also have:\\n\\n* **Chocolate Brownie:** A rich and decadent treat to enjoy with your Cappuccino.\\n\\n\\nFor a lighter option:\\n\\n* **Plain Croissant:**  A classic choice to balance the richness of the chocolate croissants and coffee.\\n\\nLet me know if you'd like more suggestions!\\n\""
      ]
     },
     "execution_count": 97,
     "metadata": {},
     "output_type": "execute_result"
    }
   ],
   "source": [
    "chatbot_output =get_chatbot_response(input_messages).text\n",
    "chatbot_output"
   ]
  },
  {
   "cell_type": "code",
   "execution_count": 100,
   "metadata": {},
   "outputs": [],
   "source": [
    "def postprocess(output):\n",
    "        output = {\n",
    "            \"role\": \"assistant\",\n",
    "            \"parts\": output,\n",
    "            \"memory\": {\"agent\":\"recommendation_agent\"\n",
    "                      }\n",
    "        }\n",
    "        return output\n"
   ]
  },
  {
   "cell_type": "code",
   "execution_count": 99,
   "metadata": {},
   "outputs": [
    {
     "data": {
      "text/plain": [
       "{'role': 'assistant',\n",
       " 'content': \"Okay, you've ordered two Cappuccinos, two Sugar Free Vanilla syrups, and two Chocolate Croissants.  Since you seem to enjoy chocolate and coffee, I'd recommend trying our:\\n\\n* **Almond Croissant:**  A delicious alternative to the chocolate croissant, offering a different flavor profile.\\n* **Pain au Chocolat:**  Similar to the chocolate croissant, but with a slightly different pastry and chocolate arrangement.  You might appreciate trying this variation.\\n\\nIf you're looking for something sweeter to complement your coffee, we also have:\\n\\n* **Chocolate Brownie:** A rich and decadent treat to enjoy with your Cappuccino.\\n\\n\\nFor a lighter option:\\n\\n* **Plain Croissant:**  A classic choice to balance the richness of the chocolate croissants and coffee.\\n\\nLet me know if you'd like more suggestions!\\n\",\n",
       " 'memory': {'agent': 'recommendation_agent'}}"
      ]
     },
     "execution_count": 99,
     "metadata": {},
     "output_type": "execute_result"
    }
   ],
   "source": [
    "output = postprocess(chatbot_output)\n",
    "output"
   ]
  }
 ],
 "metadata": {
  "kernelspec": {
   "display_name": "Python 3",
   "language": "python",
   "name": "python3"
  },
  "language_info": {
   "codemirror_mode": {
    "name": "ipython",
    "version": 3
   },
   "file_extension": ".py",
   "mimetype": "text/x-python",
   "name": "python",
   "nbconvert_exporter": "python",
   "pygments_lexer": "ipython3",
   "version": "3.12.5"
  }
 },
 "nbformat": 4,
 "nbformat_minor": 2
}
